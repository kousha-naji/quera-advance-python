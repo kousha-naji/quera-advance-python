{
 "cells": [
  {
   "cell_type": "code",
   "execution_count": 5,
   "id": "d3ea0e0f",
   "metadata": {},
   "outputs": [
    {
     "name": "stdout",
     "output_type": "stream",
     "text": [
      "Thread is working\n"
     ]
    }
   ],
   "source": [
    "import threading\n",
    "\n",
    "\n",
    "def f():\n",
    "    print('Thread is working')\n",
    "\n",
    "\n",
    "t = threading.Thread(target=f)\n",
    "t.start()"
   ]
  },
  {
   "cell_type": "code",
   "execution_count": 7,
   "id": "ea5a5871",
   "metadata": {},
   "outputs": [
    {
     "name": "stdout",
     "output_type": "stream",
     "text": [
      "Thread 0 is working\n",
      "Thread 1 is working\n",
      "Thread 2 is working\n"
     ]
    }
   ],
   "source": [
    "import threading\n",
    "\n",
    "\n",
    "def f(i):\n",
    "    print(f'Thread {i} is working')\n",
    "\n",
    "\n",
    "for i in range(0, 3):\n",
    "    threading.Thread(target=f, args=(i,)).start()"
   ]
  },
  {
   "cell_type": "code",
   "execution_count": 8,
   "id": "3a06d472",
   "metadata": {},
   "outputs": [
    {
     "name": "stdout",
     "output_type": "stream",
     "text": [
      "Thread named 000 with id = 0 is working.\n",
      "Thread named 111 with id = 1 is working.\n",
      "Thread named 222 with id = 2 is working.\n"
     ]
    }
   ],
   "source": [
    "from threading import Thread\n",
    "\n",
    "\n",
    "def f(i, name='default'):\n",
    "    print(f'Thread named {name} with id = {i} is working.')\n",
    "\n",
    "for i in range(0, 3):\n",
    "    Thread(target=f, args=(i,), kwargs={'name': f'{i}{i}{i}'}).start()"
   ]
  },
  {
   "cell_type": "code",
   "execution_count": 13,
   "id": "a2844405",
   "metadata": {},
   "outputs": [
    {
     "name": "stdout",
     "output_type": "stream",
     "text": [
      "MainThread\n",
      "The current thread is: salam\n",
      "The current thread is: khoobi\n",
      "The current thread is: Thread-83\n"
     ]
    }
   ],
   "source": [
    "import threading\n",
    "from threading import Thread\n",
    "\n",
    "\n",
    "def f():\n",
    "    print('The current thread is: ' + threading.current_thread().name)\n",
    "\n",
    "\n",
    "print(threading.current_thread().name)\n",
    "\n",
    "Thread(target=f)\n",
    "Thread(name='salam', target=f).start()\n",
    "Thread(name='khoobi', target=f).start()\n",
    "Thread(target=f).start()"
   ]
  },
  {
   "cell_type": "code",
   "execution_count": 14,
   "id": "f83e5edc",
   "metadata": {},
   "outputs": [
    {
     "name": "stdout",
     "output_type": "stream",
     "text": [
      "The thread \"hello\" started.\n",
      "0\n",
      "1\n",
      "2\n",
      "3\n",
      "4\n"
     ]
    },
    {
     "name": "stdout",
     "output_type": "stream",
     "text": [
      "The thread \"hello\" finished.\n"
     ]
    }
   ],
   "source": [
    "import time\n",
    "import threading\n",
    "from threading import Thread\n",
    "\n",
    "def f():\n",
    "    print(f\"The thread \\\"{threading.current_thread().name}\\\" started.\")\n",
    "    time.sleep(1)\n",
    "    print(f\"The thread \\\"{threading.current_thread().name}\\\" finished.\")\n",
    "\n",
    "t = Thread(name='hello', target=f)\n",
    "\n",
    "# t.daemon = True\n",
    "\n",
    "t.start()\n",
    "\n",
    "time.sleep(0.1)\n",
    "for i in range(5):\n",
    "    print(i)"
   ]
  },
  {
   "cell_type": "code",
   "execution_count": 15,
   "id": "fac08c7a",
   "metadata": {},
   "outputs": [
    {
     "name": "stdout",
     "output_type": "stream",
     "text": [
      "The thread \"hello\" started.\n",
      "0\n",
      "1\n",
      "2\n",
      "3\n",
      "4\n"
     ]
    },
    {
     "name": "stdout",
     "output_type": "stream",
     "text": [
      "The thread \"hello\" finished.\n"
     ]
    }
   ],
   "source": [
    "import time\n",
    "import threading\n",
    "from threading import Thread\n",
    "\n",
    "def f():\n",
    "    print(f\"The thread \\\"{threading.current_thread().name}\\\" started.\")\n",
    "    time.sleep(1)\n",
    "    print(f\"The thread \\\"{threading.current_thread().name}\\\" finished.\")\n",
    "\n",
    "t = Thread(name='hello', target=f)\n",
    "\n",
    "t.daemon = True\n",
    "\n",
    "t.start()\n",
    "\n",
    "time.sleep(0.1)\n",
    "for i in range(5):\n",
    "    print(i)"
   ]
  }
 ],
 "metadata": {
  "kernelspec": {
   "display_name": "Python 3",
   "language": "python",
   "name": "python3"
  },
  "language_info": {
   "codemirror_mode": {
    "name": "ipython",
    "version": 3
   },
   "file_extension": ".py",
   "mimetype": "text/x-python",
   "name": "python",
   "nbconvert_exporter": "python",
   "pygments_lexer": "ipython3",
   "version": "3.9.13"
  }
 },
 "nbformat": 4,
 "nbformat_minor": 5
}
