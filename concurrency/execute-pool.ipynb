{
 "cells": [
  {
   "cell_type": "code",
   "execution_count": 55,
   "id": "04eda746",
   "metadata": {},
   "outputs": [],
   "source": [
    "from threading import Thread\n",
    "import time"
   ]
  },
  {
   "cell_type": "code",
   "execution_count": 56,
   "id": "33591646",
   "metadata": {},
   "outputs": [],
   "source": [
    "def task():\n",
    "    print(\"level 1 passed\")\n",
    "    print(\"level 2 passed\")\n",
    "    print('level 3 passed')\n",
    "\n",
    "def greeting():\n",
    "    print(\"hello\")\n",
    "    print(\"hi\")\n",
    "    print(\"how are you?\")\n",
    "    print(\"im fine thanks\")"
   ]
  },
  {
   "cell_type": "code",
   "execution_count": 57,
   "id": "c04c2a5b",
   "metadata": {},
   "outputs": [
    {
     "name": "stdout",
     "output_type": "stream",
     "text": [
      "level 1 passed\n",
      "level 2 passed\n",
      "level 3 passed\n",
      "hello\n",
      "hi\n",
      "how are you?\n",
      "im fine thanks\n",
      "time = 0.0\n"
     ]
    }
   ],
   "source": [
    "start = time.time()\n",
    "task()\n",
    "greeting()\n",
    "finish = time.time() - start\n",
    "print(f'time = {finish}')"
   ]
  },
  {
   "cell_type": "code",
   "execution_count": 58,
   "id": "ec0341b0",
   "metadata": {},
   "outputs": [
    {
     "name": "stdout",
     "output_type": "stream",
     "text": [
      "level 1 passed\n",
      "level 2 passed\n",
      "level 3 passed\n",
      "hello\n",
      "hi\n",
      "how are you?\n",
      "im fine thanks\n",
      "\n",
      "running finished!!!\n",
      "time = 0.003998517990112305\n"
     ]
    }
   ],
   "source": [
    "start = time.time()\n",
    "thread_1 = Thread(target=task)\n",
    "thread_2 = Thread(target=greeting)\n",
    "\n",
    "thread_1.start()\n",
    "thread_2.start()\n",
    "\n",
    "thread_1.join()\n",
    "thread_2.join()\n",
    "\n",
    "print('\\nrunning finished!!!')\n",
    "finish = time.time() - start\n",
    "print(f'time = {finish}')"
   ]
  },
  {
   "cell_type": "code",
   "execution_count": 59,
   "id": "8e245345",
   "metadata": {},
   "outputs": [],
   "source": [
    "# def task():\n",
    "#     print(\"level 1 passed\")\n",
    "#     print(\"level 2 passed\")\n",
    "#     time.sleep(3)\n",
    "#     print('level 3 passed')\n",
    "\n",
    "# def greeting():\n",
    "#     print(\"hello\")\n",
    "#     print(\"hi\")\n",
    "#     print(\"how are you?\")\n",
    "#     print(\"im fine thanks\")"
   ]
  },
  {
   "cell_type": "code",
   "execution_count": 60,
   "id": "ab583a50",
   "metadata": {},
   "outputs": [],
   "source": [
    "# start = time.time()\n",
    "# task()\n",
    "# greeting()\n",
    "# finish = time.time() - start\n",
    "# print(f'time = {finish}')"
   ]
  },
  {
   "cell_type": "code",
   "execution_count": 61,
   "id": "45a183e5",
   "metadata": {},
   "outputs": [],
   "source": [
    "# start = time.time()\n",
    "# thread_1 = Thread(target=task)\n",
    "# thread_2 = Thread(target=greeting)\n",
    "\n",
    "# thread_1.start()\n",
    "# thread_2.start()\n",
    "\n",
    "# thread_1.join()\n",
    "# thread_2.join()\n",
    "\n",
    "# print('\\nrunning finished!!!')\n",
    "# finish = time.time() - start\n",
    "# print(f'time = {finish}')"
   ]
  },
  {
   "cell_type": "code",
   "execution_count": 62,
   "id": "ec44e61d",
   "metadata": {},
   "outputs": [],
   "source": [
    "def task_2(i):\n",
    "    print(f\"task {i} : level 1 passed\")\n",
    "    print(f\"task {i} :level 2 passed\")\n",
    "    time.sleep(1)\n",
    "    print(f'task {i} :level 3 passed\\n')"
   ]
  },
  {
   "cell_type": "code",
   "execution_count": 63,
   "id": "84f9b30c",
   "metadata": {},
   "outputs": [
    {
     "name": "stdout",
     "output_type": "stream",
     "text": [
      "task 0 : level 1 passed\n",
      "task 0 :level 2 passed\n",
      "task 1 : level 1 passed\n",
      "task 1 :level 2 passed\n",
      "task 2 : level 1 passed\n",
      "task 2 :level 2 passed\n",
      "task 3 : level 1 passed\n",
      "task 3 :level 2 passed\n",
      "task 4 : level 1 passed\n",
      "task 4 :level 2 passed\n",
      "task 0 :level 3 passed\n",
      "task 1 :level 3 passed\n",
      "\n",
      "task 4 :level 3 passed\n",
      "\n",
      "task 2 :level 3 passed\n",
      "\n",
      "task 3 :level 3 passed\n",
      "\n",
      "\n"
     ]
    },
    {
     "data": {
      "text/plain": [
       "[None, None, None, None, None]"
      ]
     },
     "execution_count": 63,
     "metadata": {},
     "output_type": "execute_result"
    }
   ],
   "source": [
    "threads = [Thread(target=task_2, args=(i,)) for i in range (0, 5)]\n",
    "[thread.start() for thread in threads]\n",
    "[thread.join() for thread in threads]"
   ]
  },
  {
   "cell_type": "markdown",
   "id": "8b8b2b13",
   "metadata": {},
   "source": [
    "## Concurrent Library"
   ]
  },
  {
   "cell_type": "code",
   "execution_count": 64,
   "id": "29bfff1b",
   "metadata": {},
   "outputs": [],
   "source": [
    "import concurrent.futures"
   ]
  },
  {
   "cell_type": "code",
   "execution_count": 66,
   "id": "7cfc6787",
   "metadata": {},
   "outputs": [
    {
     "name": "stdout",
     "output_type": "stream",
     "text": [
      "task 0 : level 1 passed\n",
      "task 0 :level 2 passed\n",
      "task 1 : level 1 passed\n",
      "task 1 :level 2 passed\n",
      "task 2 : level 1 passed\n",
      "task 2 :level 2 passed\n",
      "task 3 : level 1 passed\n",
      "task 3 :level 2 passed\n",
      "task 4 : level 1 passed\n",
      "task 4 :level 2 passed\n",
      "task 0 :level 3 passed\n",
      "task 3 :level 3 passed\n",
      "\n",
      "task 1 :level 3 passed\n",
      "\n",
      "task 2 :level 3 passed\n",
      "\n",
      "task 4 :level 3 passed\n",
      "\n",
      "\n"
     ]
    },
    {
     "data": {
      "text/plain": [
       "[None, None, None, None, None]"
      ]
     },
     "execution_count": 66,
     "metadata": {},
     "output_type": "execute_result"
    }
   ],
   "source": [
    "with concurrent.futures.ThreadPoolExecutor() as executer:\n",
    "    threads = [executer.submit(task_2, i) for i in range (0, 5)]\n",
    "\n",
    "[thread.result() for thread in threads]"
   ]
  }
 ],
 "metadata": {
  "kernelspec": {
   "display_name": "Python 3",
   "language": "python",
   "name": "python3"
  },
  "language_info": {
   "codemirror_mode": {
    "name": "ipython",
    "version": 3
   },
   "file_extension": ".py",
   "mimetype": "text/x-python",
   "name": "python",
   "nbconvert_exporter": "python",
   "pygments_lexer": "ipython3",
   "version": "3.9.13"
  }
 },
 "nbformat": 4,
 "nbformat_minor": 5
}
